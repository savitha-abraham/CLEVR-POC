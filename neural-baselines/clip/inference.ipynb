{
 "cells": [
  {
   "cell_type": "code",
   "execution_count": 2,
   "id": "9025da5b",
   "metadata": {},
   "outputs": [],
   "source": [
    "import models\n",
    "import torch\n",
    "import numpy as np\n",
    "import pandas as pd\n",
    "import matplotlib.pyplot as plt\n",
    "from dataset import ClevrPOCDataSet\n",
    "from torch.utils.data import DataLoader"
   ]
  },
  {
   "cell_type": "code",
   "execution_count": null,
   "id": "59a7651b",
   "metadata": {},
   "outputs": [],
   "source": [
    "# initialize the computation device\n",
    "device = torch.device('cuda' if torch.cuda.is_available() else 'cpu')\n",
    "#intialize the model\n",
    "model = models.model(pretrained=False, requires_grad=False).to(device)\n",
    "# load the model checkpoint\n",
    "checkpoint = torch.load('../outputs/model.pth')\n",
    "# load model weights state_dict\n",
    "model.load_state_dict(checkpoint['model_state_dict'])\n",
    "model.eval()"
   ]
  },
  {
   "cell_type": "code",
   "execution_count": null,
   "id": "0bd11fd6",
   "metadata": {},
   "outputs": [],
   "source": [
    "train_csv = pd.read_csv('../input/movie-classifier/Multi_Label_dataset/train.csv')\n",
    "genres = train_csv.columns.values[2:]\n",
    "# prepare the test dataset and dataloader\n",
    "test_data = ImageDataset(\n",
    "    train_csv, train=False, test=True\n",
    ")\n",
    "test_loader = DataLoader(\n",
    "    test_data, \n",
    "    batch_size=1,\n",
    "    shuffle=False\n",
    ")"
   ]
  },
  {
   "cell_type": "code",
   "execution_count": null,
   "id": "4a843ec9",
   "metadata": {},
   "outputs": [],
   "source": [
    "for counter, data in enumerate(test_loader):\n",
    "    image, target = data['image'].to(device), data['label']\n",
    "    # get all the index positions where value == 1\n",
    "    target_indices = [i for i in range(len(target[0])) if target[0][i] == 1]\n",
    "    # get the predictions by passing the image through the model\n",
    "    outputs = model(image)\n",
    "    outputs = torch.sigmoid(outputs)\n",
    "    outputs = outputs.detach().cpu()\n",
    "    sorted_indices = np.argsort(outputs[0])\n",
    "    best = sorted_indices[-3:]\n",
    "    string_predicted = ''\n",
    "    string_actual = ''\n",
    "    for i in range(len(best)):\n",
    "        string_predicted += f\"{genres[best[i]]}    \"\n",
    "    for i in range(len(target_indices)):\n",
    "        string_actual += f\"{genres[target_indices[i]]}    \"\n",
    "    image = image.squeeze(0)\n",
    "    image = image.detach().cpu().numpy()\n",
    "    image = np.transpose(image, (1, 2, 0))\n",
    "    plt.imshow(image)\n",
    "    plt.axis('off')\n",
    "    plt.title(f\"PREDICTED: {string_predicted}\\nACTUAL: {string_actual}\")\n",
    "    plt.savefig(f\"../outputs/inference_{counter}.jpg\")\n",
    "    plt.show()"
   ]
  }
 ],
 "metadata": {
  "kernelspec": {
   "display_name": "Python 3 (ipykernel)",
   "language": "python",
   "name": "python3"
  },
  "language_info": {
   "codemirror_mode": {
    "name": "ipython",
    "version": 3
   },
   "file_extension": ".py",
   "mimetype": "text/x-python",
   "name": "python",
   "nbconvert_exporter": "python",
   "pygments_lexer": "ipython3",
   "version": "3.7.13"
  }
 },
 "nbformat": 4,
 "nbformat_minor": 5
}
