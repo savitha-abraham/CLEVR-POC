{
 "cells": [
  {
   "cell_type": "code",
   "execution_count": 1,
   "id": "d6898c02",
   "metadata": {},
   "outputs": [
    {
     "name": "stderr",
     "output_type": "stream",
     "text": [
      "/home/marjan/anaconda3/envs/clip/lib/python3.10/site-packages/tqdm/auto.py:22: TqdmWarning: IProgress not found. Please update jupyter and ipywidgets. See https://ipywidgets.readthedocs.io/en/stable/user_install.html\n",
      "  from .autonotebook import tqdm as notebook_tqdm\n"
     ]
    }
   ],
   "source": [
    "import os, json\n",
    "import numpy as np\n",
    "import models\n",
    "import torch\n",
    "import torch.nn as nn\n",
    "import torch.optim as optim\n",
    "import pandas as pd\n",
    "import matplotlib.pyplot as plt\n",
    "import matplotlib\n",
    "from engine import train, validate, test\n",
    "from dataset import ClevrPOCDataSet\n",
    "from torch.utils.data import DataLoader\n",
    "from transformers import CLIPProcessor, CLIPModel\n",
    "\n",
    "import pickle\n"
   ]
  },
  {
   "cell_type": "code",
   "execution_count": 2,
   "id": "e4de3435",
   "metadata": {},
   "outputs": [],
   "source": [
    "DATA_FOLDER_NAME = 'output-2000'\n",
    "DATA_FOLDER = '/home/marjan/code/CLEVR-POC/clevr-poc-dataset-gen/' + DATA_FOLDER_NAME + '/incomplete'\n",
    "ENVIRONMENT_FOLDER = '/home/marjan/code/CLEVR-POC/clevr-poc-dataset-gen/environment_constraints'"
   ]
  },
  {
   "cell_type": "code",
   "execution_count": 3,
   "id": "2eb81991",
   "metadata": {},
   "outputs": [
    {
     "data": {
      "text/plain": [
       "{'cube': 0,\n",
       " 'sphere': 1,\n",
       " 'cylinder': 2,\n",
       " 'cone': 3,\n",
       " 'gray': 4,\n",
       " 'red': 5,\n",
       " 'blue': 6,\n",
       " 'green': 7,\n",
       " 'brown': 8,\n",
       " 'purple': 9,\n",
       " 'cyan': 10,\n",
       " 'yellow': 11,\n",
       " 'rubber': 12,\n",
       " 'metal': 13,\n",
       " 'large': 14,\n",
       " 'medium': 15,\n",
       " 'small': 16}"
      ]
     },
     "execution_count": 3,
     "metadata": {},
     "output_type": "execute_result"
    }
   ],
   "source": [
    "\n",
    "with open(os.path.join('/home/marjan/code/CLEVR-POC/clevr-poc-dataset-gen', 'data', 'properties.json'), encoding=\"utf-8\") as f:\n",
    "    properties = json.load(f)\n",
    "\n",
    "\n",
    "key_properties_values = []\n",
    "for key_property in properties:\n",
    "    if key_property == 'regions':\n",
    "        continue\n",
    "    key_properties_values.extend(properties[key_property].keys())\n",
    "\n",
    "total_labels_to_index = {k: v for v, k in enumerate(key_properties_values)}\n",
    "total_labels_to_index\n"
   ]
  },
  {
   "cell_type": "code",
   "execution_count": 4,
   "id": "fc389f73",
   "metadata": {},
   "outputs": [],
   "source": [
    "\n",
    "matplotlib.style.use('ggplot')\n",
    "# initialize the computation device\n",
    "device = torch.device('cuda' if torch.cuda.is_available() else 'cpu')\n",
    "clip_model = CLIPModel.from_pretrained(\"openai/clip-vit-base-patch32\")\n",
    "clip_preprocess = CLIPProcessor.from_pretrained(\"openai/clip-vit-base-patch32\")\n",
    "#clip_model_path = \"openai/clip-vit-base-patch32\"\n",
    "#clip_model, clip_preprocess = clip.load('ViT-B/32', device)\n"
   ]
  },
  {
   "cell_type": "code",
   "execution_count": 5,
   "id": "56d1fc5a",
   "metadata": {},
   "outputs": [],
   "source": [
    "#intialize the model\n",
    "\n",
    "clip_embedding_dim = 512\n",
    "env_embedding_dim = 768\n",
    "clip_model, final_classifier = models.model(requires_grad=False, \n",
    "                                      clip_model = clip_model,\n",
    "                                      #checkpoint=clip_model_path,\n",
    "                                      clip_embedding_dim=clip_embedding_dim,\n",
    "                                      env_embedding_dim = env_embedding_dim,\n",
    "                                      output_dim=len(total_labels_to_index))\n",
    "\n",
    "clip_model.to(device)\n",
    "final_classifier.to(device)\n",
    "\n",
    "dropout = nn.Dropout(0.1) # ????\n",
    "\n",
    "# learning parameters\n",
    "lr = 0.001\n",
    "epochs = 200\n",
    "batch_size = 8\n",
    "optimizer = optim.Adam(final_classifier.parameters(), lr=lr)\n",
    "criterion = nn.BCELoss()\n",
    "dropout = nn.Dropout(0.1)\n",
    "\n",
    "validation_threshold = 0.5\n",
    "\n"
   ]
  },
  {
   "cell_type": "code",
   "execution_count": 6,
   "id": "5309384f",
   "metadata": {},
   "outputs": [
    {
     "name": "stdout",
     "output_type": "stream",
     "text": [
      "a\n"
     ]
    }
   ],
   "source": [
    "# train dataset\n",
    "train_data = ClevrPOCDataSet(DATA_FOLDER, 'training', total_labels_to_index, ENVIRONMENT_FOLDER)\n",
    "\n",
    "# validation dataset\n",
    "valid_data = ClevrPOCDataSet(DATA_FOLDER, 'validation', total_labels_to_index, ENVIRONMENT_FOLDER)\n",
    "\n",
    "# train data loader\n",
    "train_loader = DataLoader(train_data, batch_size=batch_size, shuffle=True)\n",
    "\n",
    "# validation data loader\n",
    "valid_loader = DataLoader(valid_data, batch_size=batch_size, shuffle=False)\n",
    "\n",
    "print('a')"
   ]
  },
  {
   "cell_type": "code",
   "execution_count": null,
   "id": "67a96e75",
   "metadata": {},
   "outputs": [
    {
     "name": "stdout",
     "output_type": "stream",
     "text": [
      "Epoch 1 of 200\n",
      "Training\n"
     ]
    },
    {
     "name": "stderr",
     "output_type": "stream",
     "text": [
      "100%|█████████████████████████████████████████| 250/250 [00:21<00:00, 11.77it/s]\n"
     ]
    },
    {
     "name": "stdout",
     "output_type": "stream",
     "text": [
      "Validating\n"
     ]
    },
    {
     "name": "stderr",
     "output_type": "stream",
     "text": [
      "100%|███████████████████████████████████████████| 25/25 [00:02<00:00, 11.88it/s]\n"
     ]
    },
    {
     "name": "stdout",
     "output_type": "stream",
     "text": [
      "Train Loss: 0.4515\n",
      "Val Loss: 0.4306\n",
      "Val Acc: 13.9750\n",
      "Epoch 2 of 200\n",
      "Training\n"
     ]
    },
    {
     "name": "stderr",
     "output_type": "stream",
     "text": [
      "100%|█████████████████████████████████████████| 250/250 [00:20<00:00, 11.91it/s]\n"
     ]
    },
    {
     "name": "stdout",
     "output_type": "stream",
     "text": [
      "Validating\n"
     ]
    },
    {
     "name": "stderr",
     "output_type": "stream",
     "text": [
      "100%|███████████████████████████████████████████| 25/25 [00:02<00:00, 11.90it/s]\n"
     ]
    },
    {
     "name": "stdout",
     "output_type": "stream",
     "text": [
      "Train Loss: 0.4188\n",
      "Val Loss: 0.4065\n",
      "Val Acc: 13.9750\n",
      "Epoch 3 of 200\n",
      "Training\n"
     ]
    },
    {
     "name": "stderr",
     "output_type": "stream",
     "text": [
      "100%|█████████████████████████████████████████| 250/250 [00:21<00:00, 11.82it/s]\n"
     ]
    },
    {
     "name": "stdout",
     "output_type": "stream",
     "text": [
      "Validating\n"
     ]
    },
    {
     "name": "stderr",
     "output_type": "stream",
     "text": [
      "100%|███████████████████████████████████████████| 25/25 [00:02<00:00, 11.55it/s]\n"
     ]
    },
    {
     "name": "stdout",
     "output_type": "stream",
     "text": [
      "Train Loss: 0.4004\n",
      "Val Loss: 0.3970\n",
      "Val Acc: 14.0100\n",
      "Epoch 4 of 200\n",
      "Training\n"
     ]
    },
    {
     "name": "stderr",
     "output_type": "stream",
     "text": [
      "100%|█████████████████████████████████████████| 250/250 [00:21<00:00, 11.86it/s]\n"
     ]
    },
    {
     "name": "stdout",
     "output_type": "stream",
     "text": [
      "Validating\n"
     ]
    },
    {
     "name": "stderr",
     "output_type": "stream",
     "text": [
      "100%|███████████████████████████████████████████| 25/25 [00:02<00:00, 11.51it/s]\n"
     ]
    },
    {
     "name": "stdout",
     "output_type": "stream",
     "text": [
      "Train Loss: 0.3858\n",
      "Val Loss: 0.3837\n",
      "Val Acc: 14.2700\n",
      "Epoch 5 of 200\n",
      "Training\n"
     ]
    },
    {
     "name": "stderr",
     "output_type": "stream",
     "text": [
      "100%|█████████████████████████████████████████| 250/250 [00:21<00:00, 11.84it/s]\n"
     ]
    },
    {
     "name": "stdout",
     "output_type": "stream",
     "text": [
      "Validating\n"
     ]
    },
    {
     "name": "stderr",
     "output_type": "stream",
     "text": [
      "100%|███████████████████████████████████████████| 25/25 [00:02<00:00, 12.02it/s]\n"
     ]
    },
    {
     "name": "stdout",
     "output_type": "stream",
     "text": [
      "Train Loss: 0.3734\n",
      "Val Loss: 0.3781\n",
      "Val Acc: 14.0300\n",
      "Epoch 6 of 200\n",
      "Training\n"
     ]
    },
    {
     "name": "stderr",
     "output_type": "stream",
     "text": [
      "100%|█████████████████████████████████████████| 250/250 [00:21<00:00, 11.89it/s]\n"
     ]
    },
    {
     "name": "stdout",
     "output_type": "stream",
     "text": [
      "Validating\n"
     ]
    },
    {
     "name": "stderr",
     "output_type": "stream",
     "text": [
      "100%|███████████████████████████████████████████| 25/25 [00:02<00:00, 11.41it/s]\n"
     ]
    },
    {
     "name": "stdout",
     "output_type": "stream",
     "text": [
      "Train Loss: 0.3624\n",
      "Val Loss: 0.3612\n",
      "Val Acc: 14.3150\n",
      "Epoch 7 of 200\n",
      "Training\n"
     ]
    },
    {
     "name": "stderr",
     "output_type": "stream",
     "text": [
      "100%|█████████████████████████████████████████| 250/250 [00:20<00:00, 11.91it/s]\n"
     ]
    },
    {
     "name": "stdout",
     "output_type": "stream",
     "text": [
      "Validating\n"
     ]
    },
    {
     "name": "stderr",
     "output_type": "stream",
     "text": [
      "100%|███████████████████████████████████████████| 25/25 [00:02<00:00, 12.11it/s]\n"
     ]
    },
    {
     "name": "stdout",
     "output_type": "stream",
     "text": [
      "Train Loss: 0.3558\n",
      "Val Loss: 0.3600\n",
      "Val Acc: 14.4700\n",
      "Epoch 8 of 200\n",
      "Training\n"
     ]
    },
    {
     "name": "stderr",
     "output_type": "stream",
     "text": [
      "100%|█████████████████████████████████████████| 250/250 [00:20<00:00, 11.91it/s]\n"
     ]
    },
    {
     "name": "stdout",
     "output_type": "stream",
     "text": [
      "Validating\n"
     ]
    },
    {
     "name": "stderr",
     "output_type": "stream",
     "text": [
      "100%|███████████████████████████████████████████| 25/25 [00:02<00:00, 12.07it/s]\n"
     ]
    },
    {
     "name": "stdout",
     "output_type": "stream",
     "text": [
      "Train Loss: 0.3508\n",
      "Val Loss: 0.3534\n",
      "Val Acc: 14.5350\n",
      "Epoch 9 of 200\n",
      "Training\n"
     ]
    },
    {
     "name": "stderr",
     "output_type": "stream",
     "text": [
      "100%|█████████████████████████████████████████| 250/250 [00:21<00:00, 11.84it/s]\n"
     ]
    },
    {
     "name": "stdout",
     "output_type": "stream",
     "text": [
      "Validating\n"
     ]
    },
    {
     "name": "stderr",
     "output_type": "stream",
     "text": [
      "100%|███████████████████████████████████████████| 25/25 [00:02<00:00, 11.88it/s]\n"
     ]
    },
    {
     "name": "stdout",
     "output_type": "stream",
     "text": [
      "Train Loss: 0.3412\n",
      "Val Loss: 0.3447\n",
      "Val Acc: 14.4050\n",
      "Epoch 10 of 200\n",
      "Training\n"
     ]
    },
    {
     "name": "stderr",
     "output_type": "stream",
     "text": [
      "100%|█████████████████████████████████████████| 250/250 [00:21<00:00, 11.86it/s]\n"
     ]
    },
    {
     "name": "stdout",
     "output_type": "stream",
     "text": [
      "Validating\n"
     ]
    },
    {
     "name": "stderr",
     "output_type": "stream",
     "text": [
      "100%|███████████████████████████████████████████| 25/25 [00:02<00:00, 11.87it/s]\n"
     ]
    },
    {
     "name": "stdout",
     "output_type": "stream",
     "text": [
      "Train Loss: 0.3341\n",
      "Val Loss: 0.3372\n",
      "Val Acc: 14.3800\n",
      "Epoch 11 of 200\n",
      "Training\n"
     ]
    },
    {
     "name": "stderr",
     "output_type": "stream",
     "text": [
      "100%|█████████████████████████████████████████| 250/250 [00:21<00:00, 11.70it/s]\n"
     ]
    },
    {
     "name": "stdout",
     "output_type": "stream",
     "text": [
      "Validating\n"
     ]
    },
    {
     "name": "stderr",
     "output_type": "stream",
     "text": [
      "100%|███████████████████████████████████████████| 25/25 [00:01<00:00, 12.75it/s]\n"
     ]
    },
    {
     "name": "stdout",
     "output_type": "stream",
     "text": [
      "Train Loss: 0.3320\n",
      "Val Loss: 0.3348\n",
      "Val Acc: 14.5700\n",
      "Epoch 12 of 200\n",
      "Training\n"
     ]
    },
    {
     "name": "stderr",
     "output_type": "stream",
     "text": [
      "100%|█████████████████████████████████████████| 250/250 [00:20<00:00, 11.91it/s]\n"
     ]
    },
    {
     "name": "stdout",
     "output_type": "stream",
     "text": [
      "Validating\n"
     ]
    },
    {
     "name": "stderr",
     "output_type": "stream",
     "text": [
      "100%|███████████████████████████████████████████| 25/25 [00:02<00:00, 11.87it/s]\n"
     ]
    },
    {
     "name": "stdout",
     "output_type": "stream",
     "text": [
      "Train Loss: 0.3281\n",
      "Val Loss: 0.3286\n",
      "Val Acc: 14.6050\n",
      "Epoch 13 of 200\n",
      "Training\n"
     ]
    },
    {
     "name": "stderr",
     "output_type": "stream",
     "text": [
      "100%|█████████████████████████████████████████| 250/250 [00:21<00:00, 11.85it/s]\n"
     ]
    },
    {
     "name": "stdout",
     "output_type": "stream",
     "text": [
      "Validating\n"
     ]
    },
    {
     "name": "stderr",
     "output_type": "stream",
     "text": [
      "100%|███████████████████████████████████████████| 25/25 [00:02<00:00, 12.27it/s]\n"
     ]
    },
    {
     "name": "stdout",
     "output_type": "stream",
     "text": [
      "Train Loss: 0.3213\n",
      "Val Loss: 0.3252\n",
      "Val Acc: 14.5000\n",
      "Epoch 14 of 200\n",
      "Training\n"
     ]
    },
    {
     "name": "stderr",
     "output_type": "stream",
     "text": [
      "100%|█████████████████████████████████████████| 250/250 [00:21<00:00, 11.86it/s]\n"
     ]
    },
    {
     "name": "stdout",
     "output_type": "stream",
     "text": [
      "Validating\n"
     ]
    },
    {
     "name": "stderr",
     "output_type": "stream",
     "text": [
      "100%|███████████████████████████████████████████| 25/25 [00:02<00:00, 12.21it/s]\n"
     ]
    },
    {
     "name": "stdout",
     "output_type": "stream",
     "text": [
      "Train Loss: 0.3171\n",
      "Val Loss: 0.3348\n",
      "Val Acc: 14.2700\n",
      "Epoch 15 of 200\n",
      "Training\n"
     ]
    },
    {
     "name": "stderr",
     "output_type": "stream",
     "text": [
      "100%|█████████████████████████████████████████| 250/250 [00:20<00:00, 12.11it/s]\n"
     ]
    },
    {
     "name": "stdout",
     "output_type": "stream",
     "text": [
      "Validating\n"
     ]
    },
    {
     "name": "stderr",
     "output_type": "stream",
     "text": [
      "100%|███████████████████████████████████████████| 25/25 [00:02<00:00, 11.58it/s]\n"
     ]
    },
    {
     "name": "stdout",
     "output_type": "stream",
     "text": [
      "Train Loss: 0.3162\n",
      "Val Loss: 0.3210\n",
      "Val Acc: 14.5850\n",
      "Epoch 16 of 200\n",
      "Training\n"
     ]
    },
    {
     "name": "stderr",
     "output_type": "stream",
     "text": [
      "100%|█████████████████████████████████████████| 250/250 [00:21<00:00, 11.85it/s]\n"
     ]
    },
    {
     "name": "stdout",
     "output_type": "stream",
     "text": [
      "Validating\n"
     ]
    },
    {
     "name": "stderr",
     "output_type": "stream",
     "text": [
      "100%|███████████████████████████████████████████| 25/25 [00:02<00:00, 12.17it/s]\n"
     ]
    },
    {
     "name": "stdout",
     "output_type": "stream",
     "text": [
      "Train Loss: 0.3119\n",
      "Val Loss: 0.3182\n",
      "Val Acc: 14.6100\n",
      "Epoch 17 of 200\n",
      "Training\n"
     ]
    },
    {
     "name": "stderr",
     "output_type": "stream",
     "text": [
      "\r",
      "  0%|                                                   | 0/250 [00:00<?, ?it/s]"
     ]
    }
   ],
   "source": [
    "# start the training and validation\n",
    "train_loss = []\n",
    "valid_loss = []\n",
    "valid_acc = []\n",
    "best_validation_acc = 0\n",
    "for epoch in range(epochs):\n",
    "    print(f\"Epoch {epoch+1} of {epochs}\")\n",
    "    train_epoch_loss = train(final_classifier, clip_model, train_loader, optimizer, criterion, train_data, device, dropout, clip_preprocess)\n",
    "    valid_epoch_loss, valid_epoch_acc = validate(final_classifier, clip_model, valid_loader, criterion, valid_data, device, dropout, clip_preprocess, validation_threshold)\n",
    "    if best_validation_acc > valid_epoch_acc:\n",
    "        best_validation_acc = valid_epoch_acc\n",
    "        torch.save({\n",
    "            'epoch': epoch,\n",
    "            'model_state_dict': final_classifier.state_dict(),\n",
    "            'optimizer_state_dict': optimizer.state_dict(),\n",
    "            'loss': criterion,\n",
    "            }, 'outputs/best_model_' + DATA_FOLDER_NAME + '.pth')\n",
    "\n",
    "    train_loss.append(train_epoch_loss)\n",
    "    valid_loss.append(valid_epoch_loss)\n",
    "    valid_acc.append(valid_epoch_acc)\n",
    "    \n",
    "    with open('outputs/train_loss_' + DATA_FOLDER_NAME + '.pickle', 'wb') as f:\n",
    "        pickle.dump(train_loss, f)\n",
    "    with open('outputs/val_loss_' + DATA_FOLDER_NAME + '.pickle', 'wb') as f:\n",
    "        pickle.dump(valid_loss, f)\n",
    "    with open('outputs/val_acc' + DATA_FOLDER_NAME + '.pickle', 'wb') as f:\n",
    "        pickle.dump(valid_acc, f)        \n",
    "     \n",
    "    print(f\"Train Loss: {train_epoch_loss:.4f}\")\n",
    "    print(f'Val Loss: {valid_epoch_loss:.4f}')\n",
    "    print(f'Val Acc: {valid_epoch_acc:.4f}')"
   ]
  },
  {
   "cell_type": "code",
   "execution_count": null,
   "id": "e33511a5",
   "metadata": {},
   "outputs": [],
   "source": [
    "# save the trained model to disk\n",
    "torch.save({\n",
    "            'epoch': epochs,\n",
    "            'model_state_dict': final_classifier.state_dict(),\n",
    "            'optimizer_state_dict': optimizer.state_dict(),\n",
    "            'loss': criterion,\n",
    "            }, 'outputs/last_model_' + DATA_FOLDER_NAME + '.pth')\n",
    "# plot and save the train and validation line graphs\n",
    "plt.figure(figsize=(10, 7))\n",
    "plt.plot(train_loss, color='orange', label='train loss')\n",
    "plt.plot(valid_loss, color='red', label='validataion loss')\n",
    "plt.xlabel('Epochs')\n",
    "plt.ylabel('Loss')\n",
    "plt.legend()\n",
    "plt.savefig('outputs/loss_' + DATA_FOLDER_NAME + '.png')\n",
    "plt.show()"
   ]
  },
  {
   "cell_type": "code",
   "execution_count": null,
   "id": "ca2b9719",
   "metadata": {
    "scrolled": true
   },
   "outputs": [],
   "source": [
    "checkpoint = torch.load('outputs/best_model_' + DATA_FOLDER_NAME + '.pth')\n",
    "# load model weights state_dict\n",
    "final_classifier.load_state_dict(checkpoint['model_state_dict'])\n",
    "\n",
    "# test dataset\n",
    "test_data = ClevrPOCDataSet(DATA_FOLDER, 'testing', total_labels_to_index, ENVIRONMENT_FOLDER)\n",
    "# test data loader\n",
    "test_loader = DataLoader(test_data, batch_size=1, shuffle=False)\n",
    "\n",
    "\n",
    "test_exact_acc, test_partial_acc = test(final_classifier, clip_model, test_loader, criterion, test_data, device, dropout, clip_preprocess)\n",
    "print('test_exact_acc', test_exact_acc)\n",
    "print('test_partial_acc', test_partial_acc)\n"
   ]
  },
  {
   "cell_type": "code",
   "execution_count": null,
   "id": "1082d85c",
   "metadata": {},
   "outputs": [],
   "source": [
    "print(3)"
   ]
  },
  {
   "cell_type": "code",
   "execution_count": null,
   "id": "0a631c28",
   "metadata": {},
   "outputs": [],
   "source": [
    "import torch.nn as nn\n",
    "import torch\n",
    "import numpy\n",
    "\n",
    "a = numpy.array([1, 0, 0, 0])\n",
    "b = numpy.array([1, 0, 1, 0])\n",
    "comm = numpy.sum(a == b)\n",
    "print(comm/len(a))"
   ]
  },
  {
   "cell_type": "code",
   "execution_count": null,
   "id": "cc065070",
   "metadata": {},
   "outputs": [],
   "source": [
    "\n",
    "import numpy\n",
    "import torch\n",
    "outputs=torch.Tensor([[5.2025e-02, 2.3371e-02, 1.4724e-01, 3.4300e-02, 6.8110e-01, 8.7848e-01,\n",
    "         8.4155e-01, 7.6238e-01, 6.5444e-01, 4.3019e-01, 8.3024e-01, 7.8703e-01,\n",
    "         5.8361e-04, 4.4345e-04, 2.6426e-05, 6.5869e-04, 6.7695e-04]])\n",
    "\n",
    "b = torch.where(outputs > 0.5, 1, 0.)\n",
    "print(b)\n",
    "\n",
    "a = numpy.array(outputs)\n"
   ]
  },
  {
   "cell_type": "code",
   "execution_count": null,
   "id": "64a8c9a9",
   "metadata": {},
   "outputs": [],
   "source": []
  }
 ],
 "metadata": {
  "kernelspec": {
   "display_name": "Python 3 (ipykernel)",
   "language": "python",
   "name": "python3"
  },
  "language_info": {
   "codemirror_mode": {
    "name": "ipython",
    "version": 3
   },
   "file_extension": ".py",
   "mimetype": "text/x-python",
   "name": "python",
   "nbconvert_exporter": "python",
   "pygments_lexer": "ipython3",
   "version": "3.10.4"
  }
 },
 "nbformat": 4,
 "nbformat_minor": 5
}
