{
 "cells": [
  {
   "cell_type": "code",
   "execution_count": null,
   "metadata": {
    "colab": {
     "base_uri": "https://localhost:8080/"
    },
    "executionInfo": {
     "elapsed": 15296,
     "status": "ok",
     "timestamp": 1666856533936,
     "user": {
      "displayName": "Marjan Alirezaie",
      "userId": "00970339994790610459"
     },
     "user_tz": -120
    },
    "id": "Brb2UBFGdRIl",
    "outputId": "6c534c2d-d1fb-4862-a64e-f53b34c2f3f6"
   },
   "outputs": [],
   "source": [
    "from pathlib import Path\n",
    "import os, json\n",
    "ns_vqa_root = os.path.abspath('') # /home/savitha/Documents/clevr-poc/CLEVR-POC/nesy-baseline/ns-vqa-master\n",
    "main_root = Path(ns_vqa_root).parents[1] #/home/savitha/Documents/clevr-poc/CLEVR-POC\n",
    "DATA_FOLDER_NAME = \"output-2000\"\n",
    "\n"
   ]
  },
  {
   "cell_type": "code",
   "execution_count": null,
   "metadata": {
    "colab": {
     "base_uri": "https://localhost:8080/"
    },
    "executionInfo": {
     "elapsed": 32790,
     "status": "ok",
     "timestamp": 1666786015780,
     "user": {
      "displayName": "Marjan Alirezaie",
      "userId": "00970339994790610459"
     },
     "user_tz": -120
    },
    "id": "ygzbEa_GRMaI",
    "outputId": "85346b8c-b59b-4454-d3fd-7fa12545bd92"
   },
   "outputs": [],
   "source": [
    "#PREPROCESS TRAIN\n",
    "\n",
    "import os\n",
    "\n",
    "#%run tools/preprocess_questions.py \\\n",
    "#--input_questions_json=../data/raw/CLEVR_v1.0/questions/CLEVR_train_questions.json \\\n",
    "#--output_h5_file=../data/reason/clevr_h5_3000/clevr_train_questions_pre.h5 \\\n",
    "#--input_vocab_json=../data/reason/clevr_h5_3000/clevr_vocab_pre.json\n",
    "run = f\"python ./reason/tools/preprocess_questions.py \\\n",
    "        --main_root={main_root} \\\n",
    "        --ns_vqa_root={ns_vqa_root} \\\n",
    "        --data_folder_name={DATA_FOLDER_NAME} \\\n",
    "        --vocab_flag=0\" \n",
    "!{run} \n"
   ]
  },
  {
   "cell_type": "code",
   "execution_count": null,
   "metadata": {
    "colab": {
     "base_uri": "https://localhost:8080/"
    },
    "executionInfo": {
     "elapsed": 7484,
     "status": "ok",
     "timestamp": 1666786044560,
     "user": {
      "displayName": "Marjan Alirezaie",
      "userId": "00970339994790610459"
     },
     "user_tz": -120
    },
    "id": "4uB73Jc8cLWC",
    "outputId": "0c54fcf4-944c-4e4f-bccc-c97bb58f6429"
   },
   "outputs": [],
   "source": [
    "#PREPROCESS VAL\n",
    "run = f\"python ./reason/tools/preprocess_questions.py \\\n",
    "        --main_root={main_root} \\\n",
    "        --ns_vqa_root={ns_vqa_root} \\\n",
    "        --data_folder_name={DATA_FOLDER_NAME} \\\n",
    "        --vocab_flag=1\" \n",
    "!{run} \n",
    "\n",
    "\n"
   ]
  },
  {
   "cell_type": "code",
   "execution_count": null,
   "metadata": {
    "colab": {
     "base_uri": "https://localhost:8080/"
    },
    "executionInfo": {
     "elapsed": 1967,
     "status": "ok",
     "timestamp": 1666786049586,
     "user": {
      "displayName": "Marjan Alirezaie",
      "userId": "00970339994790610459"
     },
     "user_tz": -120
    },
    "id": "aLjr6YJ-cZgj",
    "outputId": "7bacd27d-e8d3-4af8-e022-20d144fdd745"
   },
   "outputs": [],
   "source": [
    "#SAMPLING\n",
    "\n",
    "run = f\"python ./reason/tools/sample_questions.py \\\n",
    "        --n_questions_per_family 3 \\\n",
    "        --input_question_h5 {ns_vqa_root}/data/reason/{DATA_FOLDER_NAME}/clevr-poc-train_questions.h5 \\\n",
    "        --output_dir {ns_vqa_root}/data/reason/{DATA_FOLDER_NAME}\" \n",
    "!{run} \n",
    "\n",
    "\n",
    "\n"
   ]
  },
  {
   "cell_type": "code",
   "execution_count": null,
   "metadata": {
    "id": "3Cr4u5OdlQGt"
   },
   "outputs": [],
   "source": [
    "run = f\"python ./reason/tools/run_train.py \\\n",
    "        --clevr_train_scene_path {main_root}/clevr-poc-dataset-gen/{DATA_FOLDER_NAME}/incomplete/scenes/training \\\n",
    "        --clevr_val_scene_path {main_root}/clevr-poc-dataset-gen/{DATA_FOLDER_NAME}/incomplete/scenes/validation \\\n",
    "        --checkpoint_every 100 \\\n",
    "        --num_iters 20000 \\\n",
    "        --max_val_samples 30 \\\n",
    "        --run_dir {ns_vqa_root}/data/reason/{DATA_FOLDER_NAME}/model_pretrain \\\n",
    "        --clevr_train_question_path {ns_vqa_root}/data/reason/{DATA_FOLDER_NAME}/clevr_train_3questions_per_family.h5 \\\n",
    "        --clevr_val_question_path {ns_vqa_root}/data/reason/{DATA_FOLDER_NAME}/clevr-poc-val_questions.h5 \\\n",
    "        --clevr_constraint_scene_path {main_root}/clevr-poc-dataset-gen/environment_constraints \\\n",
    "        --clevr_vocab_path {ns_vqa_root}/data/reason/{DATA_FOLDER_NAME}/clevr-poc-vocab.json \\\n",
    "        --train_image_path {main_root}/clevr-poc-dataset-gen/{DATA_FOLDER_NAME}/incomplete/images/training \\\n",
    "        --val_image_path {main_root}/clevr-poc-dataset-gen/{DATA_FOLDER_NAME}/incomplete/images/validation \\\n",
    "        --main_root={main_root} \\\n",
    "        --ns_vqa_root={ns_vqa_root}\\\n",
    "        --data_folder_name={DATA_FOLDER_NAME}\" \n",
    "    \n",
    "    \n",
    "                                         \n",
    "!{run} \n",
    "\n",
    "\n",
    "        "
   ]
  },
  {
   "cell_type": "code",
   "execution_count": null,
   "metadata": {
    "colab": {
     "base_uri": "https://localhost:8080/"
    },
    "id": "yxoBYzL1oOvB",
    "outputId": "6aec73a2-5166-4a74-cc91-ced38bc70363"
   },
   "outputs": [],
   "source": [
    "run = f\"python ./reason/tools/run_train.py \\\n",
    "        --clevr_train_scene_path {main_root}/clevr-poc-dataset-gen/{DATA_FOLDER_NAME}/incomplete/scenes/training \\\n",
    "        --clevr_val_scene_path {main_root}/clevr-poc-dataset-gen/{DATA_FOLDER_NAME}/incomplete/scenes/validation \\\n",
    "        --checkpoint_every 100 \\\n",
    "        --num_iters 1000000 \\\n",
    "        --run_dir {ns_vqa_root}/data/reason/{DATA_FOLDER_NAME}/model_reinforce \\\n",
    "        --clevr_train_question_path {ns_vqa_root}/data/reason/{DATA_FOLDER_NAME}/clevr-poc-train_questions.h5 \\\n",
    "        --clevr_val_question_path {ns_vqa_root}/data/reason/{DATA_FOLDER_NAME}/clevr-poc-val_questions.h5 \\\n",
    "        --clevr_constraint_scene_path {main_root}/clevr-poc-dataset-gen/environment_constraints \\\n",
    "        --clevr_vocab_path {ns_vqa_root}/data/reason/{DATA_FOLDER_NAME}/clevr-poc-vocab.json \\\n",
    "        --train_image_path {main_root}/clevr-poc-dataset-gen/{DATA_FOLDER_NAME}/incomplete/images/training \\\n",
    "        --val_image_path {main_root}/clevr-poc-dataset-gen/{DATA_FOLDER_NAME}/incomplete/images/validation \\\n",
    "        --load_checkpoint_path {ns_vqa_root}/data/reason/{DATA_FOLDER_NAME}/model_pretrain/checkpoint_best.pt \\\n",
    "        --reinforce 1 \\\n",
    "        --main_root={main_root} \\\n",
    "        --ns_vqa_root={ns_vqa_root} \\\n",
    "        --data_folder_name={DATA_FOLDER_NAME}\" \n",
    "    \n",
    "    \n",
    "                                         \n",
    "!{run} \n",
    "\n",
    "\n"
   ]
  },
  {
   "cell_type": "code",
   "execution_count": null,
   "metadata": {},
   "outputs": [],
   "source": [
    "#Plot train, val loss/reward - epoch\n",
    "# plot and save the train and validation line graphs\n",
    "import pickle\n",
    "import matplotlib.pyplot as plt\n",
    "import matplotlib\n",
    "\n",
    "path_trainLoss = os.path.join(ns_vqa_root, 'data/reason', DATA_FOLDER_NAME, 'train_loss_P.pickle')\n",
    "path_valLoss = os.path.join(ns_vqa_root, 'data/reason', DATA_FOLDER_NAME, 'val_loss.pickle')\n",
    "\n",
    "path_trainLoss_R = os.path.join(ns_vqa_root, 'data/reason', DATA_FOLDER_NAME, 'train_loss_R.pickle')\n",
    "path_trainReward = os.path.join(ns_vqa_root, 'data/reason', DATA_FOLDER_NAME, 'train_reward.pickle')\n",
    "path_valAcc = os.path.join(ns_vqa_root, 'data/reason', DATA_FOLDER_NAME, 'val_acc.pickle')\n",
    "\n",
    "with open(path_trainReward, 'rb') as fp:\n",
    "    train_reward = pickle.load(fp)\n",
    "with open(path_valAcc, 'rb') as fp:\n",
    "    val_Acc = pickle.load(fp)\n",
    "with open(path_trainLoss_R, 'rb') as fp:\n",
    "    train_loss_R = pickle.load(fp)\n",
    "with open(path_trainLoss_P, 'rb') as fp:\n",
    "    train_loss_P = pickle.load(fp)\n",
    "with open(path_valLoss, 'rb') as fp:\n",
    "    val_loss = pickle.load(fp)\n",
    "\n",
    "plt.figure(figsize=(10, 7))\n",
    "plt.plot(train_reward, color='orange', label='train reward')\n",
    "plt.plot(val_Acc, color='red', label='validataion accuracy')\n",
    "plt.plot(train_loss_R, color='green', label='train loss')\n",
    "plt.xlabel('Epochs')\n",
    "plt.ylabel('Loss')\n",
    "plt.legend()\n",
    "path_plot = os.path.join(ns_vqa_root, 'data/reason', DATA_FOLDER_NAME,'reward_loss_epoch.png')\n",
    "plt.savefig(path_plot)\n",
    "plt.show()"
   ]
  },
  {
   "cell_type": "code",
   "execution_count": null,
   "metadata": {
    "colab": {
     "base_uri": "https://localhost:8080/"
    },
    "executionInfo": {
     "elapsed": 833,
     "status": "ok",
     "timestamp": 1660651787190,
     "user": {
      "displayName": "Marjan Alirezaie",
      "userId": "00970339994790610459"
     },
     "user_tz": -120
    },
    "id": "ZOjrDbohdbRx",
    "outputId": "bebc0f56-9751-428b-8f74-7a71092b3a56"
   },
   "outputs": [],
   "source": [
    "#PREPROCESS TEST\n",
    "\n",
    "run = f\"python ./reason/tools/preprocess_questions.py \\\n",
    "        --main_root={main_root} \\\n",
    "        --ns_vqa_root={ns_vqa_root} \\\n",
    "        --data_folder_name={DATA_FOLDER_NAME} \\\n",
    "        --vocab_flag=2\" \n",
    "!{run} \n"
   ]
  },
  {
   "cell_type": "code",
   "execution_count": null,
   "metadata": {
    "colab": {
     "base_uri": "https://localhost:8080/"
    },
    "executionInfo": {
     "elapsed": 3801,
     "status": "ok",
     "timestamp": 1660654988297,
     "user": {
      "displayName": "Marjan Alirezaie",
      "userId": "00970339994790610459"
     },
     "user_tz": -120
    },
    "id": "RlbtKVEBdtd8",
    "outputId": "fa844897-f27a-43ca-adfb-f32752f74af9"
   },
   "outputs": [],
   "source": [
    "#TESTING\n",
    "run = f\"python ./reason/tools/run_test.py \\\n",
    "        --main_root={main_root} \\\n",
    "        --ns_vqa_root={ns_vqa_root} \\\n",
    "        --data_folder_name={DATA_FOLDER_NAME} \\\n",
    "        --clevr_val_scene_path {main_root}/clevr-poc-dataset-gen/{DATA_FOLDER_NAME}/incomplete/scenes/testing \\\n",
    "        --clevr_val_question_path {ns_vqa_root}/data/reason/{DATA_FOLDER_NAME}/clevr-poc-test_questions.h5 \\\n",
    "        --clevr_constraint_scene_path {main_root}/clevr-poc-dataset-gen/environment_constraints \\\n",
    "        --load_checkpoint_path {ns_vqa_root}/data/reason/{DATA_FOLDER_NAME}/model_reinforce/checkpoint_best.pt \\\n",
    "        --save_result_path {ns_vqa_root}/data/reason/{DATA_FOLDER_NAME}/test_result.json \\\n",
    "        --clevr_vocab_path {ns_vqa_root}/data/reason/{DATA_FOLDER_NAME}/clevr-poc-vocab.json\"\n",
    "!{run} \n",
    "\n"
   ]
  },
  {
   "cell_type": "markdown",
   "metadata": {
    "id": "582BOSV-wGMA"
   },
   "source": []
  }
 ],
 "metadata": {
  "colab": {
   "collapsed_sections": [],
   "machine_shape": "hm",
   "provenance": []
  },
  "gpuClass": "standard",
  "kernelspec": {
   "display_name": "Python 3",
   "language": "python",
   "name": "python3"
  },
  "language_info": {
   "codemirror_mode": {
    "name": "ipython",
    "version": 3
   },
   "file_extension": ".py",
   "mimetype": "text/x-python",
   "name": "python",
   "nbconvert_exporter": "python",
   "pygments_lexer": "ipython3",
   "version": "3.6.13"
  }
 },
 "nbformat": 4,
 "nbformat_minor": 1
}
